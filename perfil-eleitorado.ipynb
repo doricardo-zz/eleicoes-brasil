{
 "cells": [
  {
   "cell_type": "markdown",
   "metadata": {
    "colab_type": "text",
    "id": "-euDx2LWlYrj"
   },
   "source": [
    "## Importação do Dataset"
   ]
  },
  {
   "cell_type": "code",
   "execution_count": 4,
   "metadata": {
    "colab": {},
    "colab_type": "code",
    "id": "QiYcpEJ9C_cW"
   },
   "outputs": [],
   "source": [
    "import pandas as pd"
   ]
  },
  {
   "cell_type": "code",
   "execution_count": 27,
   "metadata": {
    "colab": {},
    "colab_type": "code",
    "id": "pUiZVPVVFQM1"
   },
   "outputs": [],
   "source": [
    "df = pd.read_csv('perfil_eleitorado_2006.txt', encoding='cp1252', sep=';' )"
   ]
  },
  {
   "cell_type": "code",
   "execution_count": 28,
   "metadata": {
    "colab": {},
    "colab_type": "code",
    "id": "ZBZ_l5oGFSB3"
   },
   "outputs": [],
   "source": [
    "df.columns = ['ano', 'uf', 'cidade', 'codigo', 'fator', 'sexo', 'idade', 'formacao', 'qtd']"
   ]
  },
  {
   "cell_type": "code",
   "execution_count": 29,
   "metadata": {
    "colab": {
     "base_uri": "https://localhost:8080/",
     "height": 204
    },
    "colab_type": "code",
    "executionInfo": {
     "elapsed": 829,
     "status": "ok",
     "timestamp": 1541774345541,
     "user": {
      "displayName": "Ricardo Andrade",
      "photoUrl": "https://lh5.googleusercontent.com/-_HRfPVbkr8s/AAAAAAAAAAI/AAAAAAAAGBc/9MoPv7FgT9c/s64/photo.jpg",
      "userId": "05226291806776384001"
     },
     "user_tz": 120
    },
    "id": "NVAAqvIwFTij",
    "outputId": "330137a4-fe63-4a50-81d2-04f8890a90ad"
   },
   "outputs": [
    {
     "data": {
      "text/plain": [
       "formacao\n",
       "ANALFABETO                   8276338\n",
       "LE E ESCREVE                21301781\n",
       "NAO INFORMADO                 183855\n",
       "PRIMEIRO GRAU COMPLETO       9915879\n",
       "PRIMEIRO GRAU INCOMPLETO    43785928\n",
       "SEGUNDO GRAU COMPLETO       14076862\n",
       "SEGUNDO GRAU INCOMPLETO     21257329\n",
       "SUPERIOR COMPLETO            4190269\n",
       "SUPERIOR INCOMPLETO          2925252\n",
       "Name: qtd, dtype: int64"
      ]
     },
     "execution_count": 29,
     "metadata": {},
     "output_type": "execute_result"
    }
   ],
   "source": [
    "df.groupby(['formacao']).sum()['qtd']"
   ]
  },
  {
   "cell_type": "markdown",
   "metadata": {
    "colab_type": "text",
    "id": "3RVpljqKlIzX"
   },
   "source": [
    "## Correção de Caracteres Inválidos "
   ]
  },
  {
   "cell_type": "code",
   "execution_count": 30,
   "metadata": {
    "colab": {},
    "colab_type": "code",
    "id": "H3DfwiATgbrE"
   },
   "outputs": [],
   "source": [
    "df.replace(\"Nï¿½O INFORMADO\",\"NÃO INFORMADO\", inplace=True)"
   ]
  },
  {
   "cell_type": "code",
   "execution_count": 31,
   "metadata": {
    "colab": {},
    "colab_type": "code",
    "id": "vU2oCJUrkjLe"
   },
   "outputs": [],
   "source": [
    "df.replace(\"ENSINO Mï¿½DIO COMPLETO\",\"ENSINO MÉDIO COMPLETO\", inplace=True)"
   ]
  },
  {
   "cell_type": "code",
   "execution_count": 32,
   "metadata": {
    "colab": {},
    "colab_type": "code",
    "id": "iISByFmDwDkZ"
   },
   "outputs": [],
   "source": [
    "df.replace(\"ENSINO Mï¿½DIO INCOMPLETO\",\"ENSINO MÉDIO INCOMPLETO\", inplace=True)"
   ]
  },
  {
   "cell_type": "code",
   "execution_count": 33,
   "metadata": {
    "colab": {},
    "colab_type": "code",
    "id": "-JZ0KoSqmEhQ"
   },
   "outputs": [],
   "source": [
    "df.replace(\"Lï¿½ E ESCREVE\",\"LÊ E ESCREVE\", inplace=True)"
   ]
  },
  {
   "cell_type": "code",
   "execution_count": 34,
   "metadata": {
    "colab": {
     "base_uri": "https://localhost:8080/",
     "height": 204
    },
    "colab_type": "code",
    "executionInfo": {
     "elapsed": 888,
     "status": "ok",
     "timestamp": 1541774358719,
     "user": {
      "displayName": "Ricardo Andrade",
      "photoUrl": "https://lh5.googleusercontent.com/-_HRfPVbkr8s/AAAAAAAAAAI/AAAAAAAAGBc/9MoPv7FgT9c/s64/photo.jpg",
      "userId": "05226291806776384001"
     },
     "user_tz": 120
    },
    "id": "AtmLkJ9NmYJC",
    "outputId": "c8bee012-0cc1-4dea-e088-97f1f5373018"
   },
   "outputs": [
    {
     "data": {
      "text/plain": [
       "formacao\n",
       "ANALFABETO                   8276338\n",
       "LE E ESCREVE                21301781\n",
       "NAO INFORMADO                 183855\n",
       "PRIMEIRO GRAU COMPLETO       9915879\n",
       "PRIMEIRO GRAU INCOMPLETO    43785928\n",
       "SEGUNDO GRAU COMPLETO       14076862\n",
       "SEGUNDO GRAU INCOMPLETO     21257329\n",
       "SUPERIOR COMPLETO            4190269\n",
       "SUPERIOR INCOMPLETO          2925252\n",
       "Name: qtd, dtype: int64"
      ]
     },
     "execution_count": 34,
     "metadata": {},
     "output_type": "execute_result"
    }
   ],
   "source": [
    "df.groupby(['formacao']).sum()['qtd']"
   ]
  },
  {
   "cell_type": "markdown",
   "metadata": {
    "colab_type": "text",
    "id": "VhNYDeTJlRTd"
   },
   "source": [
    "## Geração de Gráficos"
   ]
  },
  {
   "cell_type": "code",
   "execution_count": 35,
   "metadata": {
    "colab": {
     "base_uri": "https://localhost:8080/",
     "height": 393
    },
    "colab_type": "code",
    "executionInfo": {
     "elapsed": 1459,
     "status": "ok",
     "timestamp": 1541778034177,
     "user": {
      "displayName": "Ricardo Andrade",
      "photoUrl": "https://lh5.googleusercontent.com/-_HRfPVbkr8s/AAAAAAAAAAI/AAAAAAAAGBc/9MoPv7FgT9c/s64/photo.jpg",
      "userId": "05226291806776384001"
     },
     "user_tz": 120
    },
    "id": "kvp3e7elFVNT",
    "outputId": "7852a2f0-0a8e-4516-b37e-20d95599e5f0"
   },
   "outputs": [
    {
     "data": {
      "text/plain": [
       "Text(0.5,0,'Quantidade')"
      ]
     },
     "execution_count": 35,
     "metadata": {},
     "output_type": "execute_result"
    },
    {
     "data": {
      "image/png": "[encoded data removed]",
      "text/plain": [
       "<Figure size 432x288 with 1 Axes>"
      ]
     },
     "metadata": {},
     "output_type": "display_data"
    }
   ],
   "source": [
    "hist = df.groupby(['formacao']).sum()['qtd'].plot.barh(title=\"Formação Eleitorado 2002\")\n",
    "hist.set_ylabel('')\n",
    "hist.set_xlabel('Quantidade')"
   ]
  },
  {
   "cell_type": "code",
   "execution_count": null,
   "metadata": {
    "colab": {},
    "colab_type": "code",
    "id": "LkRhMjnVIcXs"
   },
   "outputs": [],
   "source": []
  },
  {
   "cell_type": "code",
   "execution_count": null,
   "metadata": {},
   "outputs": [],
   "source": []
  },
  {
   "cell_type": "code",
   "execution_count": null,
   "metadata": {},
   "outputs": [],
   "source": []
  }
 ],
 "metadata": {
  "colab": {
   "name": "perfil-eleitorado.ipynb",
   "provenance": [],
   "version": "0.3.2"
  },
  "kernelspec": {
   "display_name": "Python 3",
   "language": "python",
   "name": "python3"
  },
  "language_info": {
   "codemirror_mode": {
    "name": "ipython",
    "version": 3
   },
   "file_extension": ".py",
   "mimetype": "text/x-python",
   "name": "python",
   "nbconvert_exporter": "python",
   "pygments_lexer": "ipython3",
   "version": "3.6.5"
  }
 },
 "nbformat": 4,
 "nbformat_minor": 1
}
