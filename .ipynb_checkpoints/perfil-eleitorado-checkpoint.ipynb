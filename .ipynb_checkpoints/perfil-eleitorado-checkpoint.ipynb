{
 "cells": [
  {
   "cell_type": "markdown",
   "metadata": {
    "colab_type": "text",
    "id": "-euDx2LWlYrj"
   },
   "source": [
    "## Importação do Dataset"
   ]
  },
  {
   "cell_type": "code",
   "execution_count": 99,
   "metadata": {
    "colab": {},
    "colab_type": "code",
    "id": "QiYcpEJ9C_cW"
   },
   "outputs": [],
   "source": [
    "import pandas as pd"
   ]
  },
  {
   "cell_type": "code",
   "execution_count": 126,
   "metadata": {},
   "outputs": [],
   "source": [
    "def incluir_titulo(dataframe):\n",
    "    dataframe.columns = ['ano', 'uf', 'cidade', 'codigo', 'fator', 'sexo', 'idade', 'formacao', 'qtd']"
   ]
  },
  {
   "cell_type": "code",
   "execution_count": 109,
   "metadata": {},
   "outputs": [],
   "source": [
    "df_2002 = pd.read_csv('perfil_eleitorado_2002.txt', encoding='cp1252', sep=';' )\n",
    "df_2006 = pd.read_csv('perfil_eleitorado_2006.txt', encoding='cp1252', sep=';' )\n",
    "df_2010 = pd.read_csv('perfil_eleitorado_2010.txt', encoding='cp1252', sep=';' )\n",
    "df_2014 = pd.read_csv('perfil_eleitorado_2014.txt', encoding='cp1252', sep=';' )\n",
    "df_2018 = pd.read_csv('perfil_eleitorado_ATUAL.txt', encoding='cp1252', sep=';' )"
   ]
  },
  {
   "cell_type": "code",
   "execution_count": 127,
   "metadata": {
    "colab": {},
    "colab_type": "code",
    "id": "ZBZ_l5oGFSB3"
   },
   "outputs": [],
   "source": [
    "incluir_titulo(df_2002)\n",
    "incluir_titulo(df_2006)\n",
    "incluir_titulo(df_2010)\n",
    "incluir_titulo(df_2014)\n",
    "incluir_titulo(df_2018)"
   ]
  },
  {
   "cell_type": "code",
   "execution_count": 115,
   "metadata": {},
   "outputs": [],
   "source": [
    "df_2014['ano'] = '2014'\n",
    "df_2018['ano'] = '2018'"
   ]
  },
  {
   "cell_type": "code",
   "execution_count": 117,
   "metadata": {},
   "outputs": [],
   "source": [
    "df = df_2002.append(df_2006)"
   ]
  },
  {
   "cell_type": "code",
   "execution_count": 118,
   "metadata": {},
   "outputs": [],
   "source": [
    "df = df.append(df_2010)"
   ]
  },
  {
   "cell_type": "code",
   "execution_count": 119,
   "metadata": {},
   "outputs": [],
   "source": [
    "df = df.append(df_2014)"
   ]
  },
  {
   "cell_type": "code",
   "execution_count": 120,
   "metadata": {},
   "outputs": [],
   "source": [
    "df = df.append(df_2018)"
   ]
  },
  {
   "cell_type": "code",
   "execution_count": 121,
   "metadata": {},
   "outputs": [
    {
     "data": {
      "text/plain": [
       "ano\n",
       "2002    115254108\n",
       "2006    125913493\n",
       "2010    135804431\n",
       "2014    142822045\n",
       "2018    147302340\n",
       "Name: qtd, dtype: int64"
      ]
     },
     "execution_count": 121,
     "metadata": {},
     "output_type": "execute_result"
    }
   ],
   "source": [
    "df.groupby(['ano']).sum()['qtd']"
   ]
  },
  {
   "cell_type": "code",
   "execution_count": 134,
   "metadata": {},
   "outputs": [
    {
     "data": {
      "image/png": "[encoded data removed]",
      "text/plain": [
       "<Figure size 432x288 with 1 Axes>"
      ]
     },
     "metadata": {},
     "output_type": "display_data"
    }
   ],
   "source": [
    "hist_eleitorado_ano = df.groupby(['ano']).sum()['qtd'].plot.barh(title=\"Quantidade Eleitores por Ano\")\n",
    "hist_eleitorado_ano.set_ylabel('Quantidade')\n",
    "hist_eleitorado_ano.set_xlabel('Eleitores');"
   ]
  },
  {
   "cell_type": "code",
   "execution_count": 124,
   "metadata": {
    "colab": {
     "base_uri": "https://localhost:8080/",
     "height": 204
    },
    "colab_type": "code",
    "executionInfo": {
     "elapsed": 829,
     "status": "ok",
     "timestamp": 1541774345541,
     "user": {
      "displayName": "Ricardo Andrade",
      "photoUrl": "https://lh5.googleusercontent.com/-_HRfPVbkr8s/AAAAAAAAAAI/AAAAAAAAGBc/9MoPv7FgT9c/s64/photo.jpg",
      "userId": "05226291806776384001"
     },
     "user_tz": 120
    },
    "id": "NVAAqvIwFTij",
    "outputId": "330137a4-fe63-4a50-81d2-04f8890a90ad"
   },
   "outputs": [
    {
     "data": {
      "text/plain": [
       "ano   formacao                     \n",
       "2002  ANALFABETO                        8345043\n",
       "      LE E ESCREVE                     22600972\n",
       "      NAO INFORMADO                      226708\n",
       "      PRIMEIRO GRAU COMPLETO            9392112\n",
       "      PRIMEIRO GRAU INCOMPLETO         41071385\n",
       "      SEGUNDO GRAU COMPLETO            11357433\n",
       "      SEGUNDO GRAU INCOMPLETO          16122964\n",
       "      SUPERIOR COMPLETO                 3688888\n",
       "      SUPERIOR INCOMPLETO               2448603\n",
       "2006  ANALFABETO                        8276338\n",
       "      LE E ESCREVE                     21301781\n",
       "      NAO INFORMADO                      183855\n",
       "      PRIMEIRO GRAU COMPLETO            9915879\n",
       "      PRIMEIRO GRAU INCOMPLETO         43785928\n",
       "      SEGUNDO GRAU COMPLETO            14076862\n",
       "      SEGUNDO GRAU INCOMPLETO          21257329\n",
       "      SUPERIOR COMPLETO                 4190269\n",
       "      SUPERIOR INCOMPLETO               2925252\n",
       "2010  ANALFABETO                        8007315\n",
       "      ENSINO FUNDAMENTAL COMPLETO      10319492\n",
       "      ENSINO FUNDAMENTAL INCOMPLETO    44935557\n",
       "      ENSINO MÉDIO COMPLETO            17918370\n",
       "      ENSINO MÉDIO INCOMPLETO          25732349\n",
       "      LÊ E ESCREVE                     19787586\n",
       "      NÃO INFORMADO                      152864\n",
       "      SUPERIOR COMPLETO                 5197950\n",
       "      SUPERIOR INCOMPLETO               3752948\n",
       "2014  ANALFABETO                        7389545\n",
       "      ENSINO FUNDAMENTAL COMPLETO      10300652\n",
       "      ENSINO FUNDAMENTAL INCOMPLETO    43149597\n",
       "      ENSINO MÉDIO COMPLETO            23839328\n",
       "      ENSINO MÉDIO INCOMPLETO          27510992\n",
       "      LÊ E ESCREVE                     17252115\n",
       "      NÃO INFORMADO                      115472\n",
       "      SUPERIOR COMPLETO                 8038891\n",
       "      SUPERIOR INCOMPLETO               5225453\n",
       "2018  ANALFABETO                        6574110\n",
       "      ENSINO FUNDAMENTAL COMPLETO      10030145\n",
       "      ENSINO FUNDAMENTAL INCOMPLETO    38063881\n",
       "      ENSINO MÉDIO COMPLETO            33676847\n",
       "      ENSINO MÉDIO INCOMPLETO          24864060\n",
       "      LÊ E ESCREVE                     13147191\n",
       "      NÃO INFORMADO                       56359\n",
       "      SUPERIOR COMPLETO                13576120\n",
       "      SUPERIOR INCOMPLETO               7313627\n",
       "Name: qtd, dtype: int64"
      ]
     },
     "execution_count": 124,
     "metadata": {},
     "output_type": "execute_result"
    }
   ],
   "source": [
    "df.groupby(['ano','formacao']).sum()['qtd']"
   ]
  },
  {
   "cell_type": "markdown",
   "metadata": {
    "colab_type": "text",
    "id": "3RVpljqKlIzX"
   },
   "source": [
    "## Correção de Caracteres Inválidos "
   ]
  },
  {
   "cell_type": "code",
   "execution_count": 84,
   "metadata": {
    "colab": {},
    "colab_type": "code",
    "id": "H3DfwiATgbrE"
   },
   "outputs": [],
   "source": [
    "df.replace(\"Nï¿½O INFORMADO\",\"NÃO INFORMADO\", inplace=True)"
   ]
  },
  {
   "cell_type": "code",
   "execution_count": 85,
   "metadata": {
    "colab": {},
    "colab_type": "code",
    "id": "vU2oCJUrkjLe"
   },
   "outputs": [],
   "source": [
    "df.replace(\"ENSINO Mï¿½DIO COMPLETO\",\"ENSINO MÉDIO COMPLETO\", inplace=True)"
   ]
  },
  {
   "cell_type": "code",
   "execution_count": 86,
   "metadata": {
    "colab": {},
    "colab_type": "code",
    "id": "iISByFmDwDkZ"
   },
   "outputs": [],
   "source": [
    "df.replace(\"ENSINO Mï¿½DIO INCOMPLETO\",\"ENSINO MÉDIO INCOMPLETO\", inplace=True)"
   ]
  },
  {
   "cell_type": "code",
   "execution_count": 87,
   "metadata": {
    "colab": {},
    "colab_type": "code",
    "id": "-JZ0KoSqmEhQ"
   },
   "outputs": [],
   "source": [
    "df.replace(\"Lï¿½ E ESCREVE\",\"LÊ E ESCREVE\", inplace=True)"
   ]
  },
  {
   "cell_type": "code",
   "execution_count": 88,
   "metadata": {
    "colab": {
     "base_uri": "https://localhost:8080/",
     "height": 204
    },
    "colab_type": "code",
    "executionInfo": {
     "elapsed": 888,
     "status": "ok",
     "timestamp": 1541774358719,
     "user": {
      "displayName": "Ricardo Andrade",
      "photoUrl": "https://lh5.googleusercontent.com/-_HRfPVbkr8s/AAAAAAAAAAI/AAAAAAAAGBc/9MoPv7FgT9c/s64/photo.jpg",
      "userId": "05226291806776384001"
     },
     "user_tz": 120
    },
    "id": "AtmLkJ9NmYJC",
    "outputId": "c8bee012-0cc1-4dea-e088-97f1f5373018"
   },
   "outputs": [
    {
     "data": {
      "text/plain": [
       "formacao\n",
       "ANALFABETO                        6574110\n",
       "ENSINO FUNDAMENTAL COMPLETO      10030145\n",
       "ENSINO FUNDAMENTAL INCOMPLETO    38063881\n",
       "ENSINO MÉDIO COMPLETO            33676847\n",
       "ENSINO MÉDIO INCOMPLETO          24864060\n",
       "LÊ E ESCREVE                     13147191\n",
       "NÃO INFORMADO                       56359\n",
       "SUPERIOR COMPLETO                13576120\n",
       "SUPERIOR INCOMPLETO               7313627\n",
       "Name: qtd, dtype: int64"
      ]
     },
     "execution_count": 88,
     "metadata": {},
     "output_type": "execute_result"
    }
   ],
   "source": [
    "df.groupby(['formacao']).sum()['qtd']"
   ]
  },
  {
   "cell_type": "markdown",
   "metadata": {
    "colab_type": "text",
    "id": "VhNYDeTJlRTd"
   },
   "source": [
    "## Geração de Gráficos"
   ]
  },
  {
   "cell_type": "code",
   "execution_count": 89,
   "metadata": {
    "colab": {
     "base_uri": "https://localhost:8080/",
     "height": 393
    },
    "colab_type": "code",
    "executionInfo": {
     "elapsed": 1459,
     "status": "ok",
     "timestamp": 1541778034177,
     "user": {
      "displayName": "Ricardo Andrade",
      "photoUrl": "https://lh5.googleusercontent.com/-_HRfPVbkr8s/AAAAAAAAAAI/AAAAAAAAGBc/9MoPv7FgT9c/s64/photo.jpg",
      "userId": "05226291806776384001"
     },
     "user_tz": 120
    },
    "id": "kvp3e7elFVNT",
    "outputId": "7852a2f0-0a8e-4516-b37e-20d95599e5f0"
   },
   "outputs": [
    {
     "data": {
      "text/plain": [
       "Text(0.5,0,'Quantidade')"
      ]
     },
     "execution_count": 89,
     "metadata": {},
     "output_type": "execute_result"
    },
    {
     "data": {
      "image/png": "[encoded data removed]",
      "text/plain": [
       "<Figure size 432x288 with 1 Axes>"
      ]
     },
     "metadata": {},
     "output_type": "display_data"
    }
   ],
   "source": [
    "hist = df.groupby(['formacao']).sum()['qtd'].plot.barh(title=\"Formação Eleitorado 2018\")\n",
    "hist.set_ylabel('')\n",
    "hist.set_xlabel('Quantidade')"
   ]
  },
  {
   "cell_type": "code",
   "execution_count": null,
   "metadata": {},
   "outputs": [],
   "source": []
  }
 ],
 "metadata": {
  "colab": {
   "name": "perfil-eleitorado.ipynb",
   "provenance": [],
   "version": "0.3.2"
  },
  "kernelspec": {
   "display_name": "Python 3",
   "language": "python",
   "name": "python3"
  },
  "language_info": {
   "codemirror_mode": {
    "name": "ipython",
    "version": 3
   },
   "file_extension": ".py",
   "mimetype": "text/x-python",
   "name": "python",
   "nbconvert_exporter": "python",
   "pygments_lexer": "ipython3",
   "version": "3.6.5"
  }
 },
 "nbformat": 4,
 "nbformat_minor": 1
}
